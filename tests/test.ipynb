{
 "cells": [
  {
   "cell_type": "code",
   "execution_count": 16,
   "metadata": {},
   "outputs": [
    {
     "data": {
      "text/plain": [
       "'d:\\\\myproj\\\\PhD2024\\\\DuckNet3D'"
      ]
     },
     "execution_count": 16,
     "metadata": {},
     "output_type": "execute_result"
    }
   ],
   "source": [
    "import os\n",
    "__script_path = os.path.abspath(globals().get(\"__file__\", \"./test.ipynb\"))\n",
    "__script_dir  = os.path.dirname(__script_path)\n",
    "\n",
    "root_dir = os.path.abspath(f'{__script_dir}/..')\n",
    "root_dir"
   ]
  },
  {
   "cell_type": "code",
   "execution_count": null,
   "metadata": {},
   "outputs": [],
   "source": [
    "!pip install scipy"
   ]
  },
  {
   "cell_type": "code",
   "execution_count": null,
   "metadata": {},
   "outputs": [],
   "source": [
    "import sys, shlex\n",
    "cmd_args = \"main --cnt 10\"\n",
    "\n",
    "org_argv = sys.argv\n",
    "sys.argv = shlex.split(cmd_args)\n",
    "%run $root_dir\\deeplearning\\contribs\\ducknet-3d\\ModelNotebook.ipynb\n",
    "\n",
    "sys.argv = org_argv"
   ]
  },
  {
   "cell_type": "code",
   "execution_count": 13,
   "metadata": {},
   "outputs": [
    {
     "name": "stdout",
     "output_type": "stream",
     "text": [
      "/abc/d/test1\n",
      "/abc/d/test1\n"
     ]
    }
   ],
   "source": [
    "expr_dir  = \"/abc/d\"\n",
    "expr_name = \"test1\"\n",
    "\n",
    "tpl1 = \"{expr_dir}/{expr_name}\"\n",
    "tpl2 = \"expr_dir + '/' + expr_name\"\n",
    "print(eval(tpl2))\n",
    "print(eval('f\"%s\"'%tpl1))"
   ]
  },
  {
   "cell_type": "code",
   "execution_count": 14,
   "metadata": {},
   "outputs": [
    {
     "data": {
      "text/plain": [
       "'unet_v2'"
      ]
     },
     "execution_count": 14,
     "metadata": {},
     "output_type": "execute_result"
    }
   ],
   "source": [
    "params[\"model_name\"]"
   ]
  },
  {
   "cell_type": "code",
   "execution_count": 6,
   "metadata": {},
   "outputs": [
    {
     "data": {
      "text/plain": [
       "{'b': 10}"
      ]
     },
     "execution_count": 6,
     "metadata": {},
     "output_type": "execute_result"
    }
   ],
   "source": [
    "model"
   ]
  },
  {
   "cell_type": "markdown",
   "metadata": {},
   "source": []
  }
 ],
 "metadata": {
  "kernelspec": {
   "display_name": "Python 3",
   "language": "python",
   "name": "python3"
  },
  "language_info": {
   "codemirror_mode": {
    "name": "ipython",
    "version": 3
   },
   "file_extension": ".py",
   "mimetype": "text/x-python",
   "name": "python",
   "nbconvert_exporter": "python",
   "pygments_lexer": "ipython3",
   "version": "3.11.7"
  }
 },
 "nbformat": 4,
 "nbformat_minor": 2
}
