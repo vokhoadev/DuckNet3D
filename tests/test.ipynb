{
 "cells": [
  {
   "cell_type": "code",
   "execution_count": 13,
   "metadata": {},
   "outputs": [
    {
     "data": {
      "text/plain": [
       "'c:\\\\VoKhoa2024\\\\000_NghienCuu_New\\\\CodeProjects\\\\Keras-Examples'"
      ]
     },
     "execution_count": 13,
     "metadata": {},
     "output_type": "execute_result"
    }
   ],
   "source": [
    "import os\n",
    "__script_path = os.path.abspath(globals().get(\"__file__\", \"./test.ipynb\"))\n",
    "__script_dir  = os.path.dirname(__script_path)\n",
    "\n",
    "root_dir = os.path.abspath(f'{__script_dir}/..')\n",
    "root_dir\n"
   ]
  },
  {
   "cell_type": "code",
   "execution_count": 18,
   "metadata": {},
   "outputs": [
    {
     "name": "stdout",
     "output_type": "stream",
     "text": [
      "Collecting scipy\n",
      "  Downloading scipy-1.12.0-cp312-cp312-win_amd64.whl.metadata (60 kB)\n",
      "     ---------------------------------------- 0.0/60.4 kB ? eta -:--:--\n",
      "     ------ --------------------------------- 10.2/60.4 kB ? eta -:--:--\n",
      "     ------ --------------------------------- 10.2/60.4 kB ? eta -:--:--\n",
      "     ------------ ------------------------- 20.5/60.4 kB 131.3 kB/s eta 0:00:01\n",
      "     ------------------- ------------------ 30.7/60.4 kB 146.3 kB/s eta 0:00:01\n",
      "     ------------------------- ------------ 41.0/60.4 kB 178.6 kB/s eta 0:00:01\n",
      "     -------------------------------- ----- 51.2/60.4 kB 201.8 kB/s eta 0:00:01\n",
      "     -------------------------------------- 60.4/60.4 kB 189.4 kB/s eta 0:00:00\n",
      "Requirement already satisfied: numpy<1.29.0,>=1.22.4 in c:\\users\\acer\\appdata\\local\\programs\\python\\python312\\lib\\site-packages (from scipy) (1.26.3)\n",
      "Downloading scipy-1.12.0-cp312-cp312-win_amd64.whl (45.8 MB)\n",
      "   ---------------------------------------- 0.0/45.8 MB ? eta -:--:--\n",
      "   ---------------------------------------- 0.1/45.8 MB 1.5 MB/s eta 0:00:30\n",
      "   ---------------------------------------- 0.3/45.8 MB 3.5 MB/s eta 0:00:13\n",
      "    --------------------------------------- 0.9/45.8 MB 7.0 MB/s eta 0:00:07\n",
      "   - -------------------------------------- 2.0/45.8 MB 10.4 MB/s eta 0:00:05\n",
      "   -- ------------------------------------- 3.2/45.8 MB 13.6 MB/s eta 0:00:04\n",
      "   --- ------------------------------------ 4.4/45.8 MB 15.5 MB/s eta 0:00:03\n",
      "   ---- ----------------------------------- 4.9/45.8 MB 16.5 MB/s eta 0:00:03\n",
      "   ---- ----------------------------------- 5.7/45.8 MB 15.2 MB/s eta 0:00:03\n",
      "   ------ --------------------------------- 6.9/45.8 MB 17.1 MB/s eta 0:00:03\n",
      "   ------ --------------------------------- 8.0/45.8 MB 17.6 MB/s eta 0:00:03\n",
      "   ------- -------------------------------- 9.1/45.8 MB 18.2 MB/s eta 0:00:03\n",
      "   --------- ------------------------------ 10.4/45.8 MB 21.1 MB/s eta 0:00:02\n",
      "   ---------- ----------------------------- 11.5/45.8 MB 24.2 MB/s eta 0:00:02\n",
      "   ----------- ---------------------------- 13.1/45.8 MB 26.2 MB/s eta 0:00:02\n",
      "   ------------ --------------------------- 14.6/45.8 MB 26.2 MB/s eta 0:00:02\n",
      "   ------------- -------------------------- 15.7/45.8 MB 28.4 MB/s eta 0:00:02\n",
      "   -------------- ------------------------- 17.1/45.8 MB 29.7 MB/s eta 0:00:01\n",
      "   --------------- ------------------------ 17.6/45.8 MB 28.5 MB/s eta 0:00:01\n",
      "   ---------------- ----------------------- 18.8/45.8 MB 26.2 MB/s eta 0:00:02\n",
      "   ------------------ --------------------- 20.8/45.8 MB 28.5 MB/s eta 0:00:01\n",
      "   ------------------- -------------------- 22.1/45.8 MB 29.8 MB/s eta 0:00:01\n",
      "   -------------------- ------------------- 23.2/45.8 MB 28.5 MB/s eta 0:00:01\n",
      "   --------------------- ------------------ 25.0/45.8 MB 28.4 MB/s eta 0:00:01\n",
      "   ---------------------- ----------------- 26.1/45.8 MB 29.7 MB/s eta 0:00:01\n",
      "   ----------------------- ---------------- 27.2/45.8 MB 28.5 MB/s eta 0:00:01\n",
      "   ------------------------ --------------- 28.3/45.8 MB 32.8 MB/s eta 0:00:01\n",
      "   ------------------------- -------------- 29.6/45.8 MB 31.2 MB/s eta 0:00:01\n",
      "   -------------------------- ------------- 30.9/45.8 MB 28.5 MB/s eta 0:00:01\n",
      "   ---------------------------- ----------- 32.2/45.8 MB 28.4 MB/s eta 0:00:01\n",
      "   ----------------------------- ---------- 33.7/45.8 MB 29.7 MB/s eta 0:00:01\n",
      "   ----------------------------- ---------- 34.3/45.8 MB 28.5 MB/s eta 0:00:01\n",
      "   ------------------------------- -------- 35.6/45.8 MB 28.4 MB/s eta 0:00:01\n",
      "   ------------------------------- -------- 36.1/45.8 MB 26.2 MB/s eta 0:00:01\n",
      "   -------------------------------- ------- 37.1/45.8 MB 25.1 MB/s eta 0:00:01\n",
      "   -------------------------------- ------- 37.2/45.8 MB 25.1 MB/s eta 0:00:01\n",
      "   -------------------------------- ------- 37.7/45.8 MB 21.8 MB/s eta 0:00:01\n",
      "   ---------------------------------- ----- 40.1/45.8 MB 22.6 MB/s eta 0:00:01\n",
      "   ----------------------------------- ---- 40.8/45.8 MB 23.4 MB/s eta 0:00:01\n",
      "   ------------------------------------ --- 41.7/45.8 MB 21.9 MB/s eta 0:00:01\n",
      "   ------------------------------------- -- 42.8/45.8 MB 21.1 MB/s eta 0:00:01\n",
      "   -------------------------------------- - 43.6/45.8 MB 21.1 MB/s eta 0:00:01\n",
      "   -------------------------------------- - 44.4/45.8 MB 21.1 MB/s eta 0:00:01\n",
      "   ---------------------------------------  45.2/45.8 MB 21.1 MB/s eta 0:00:01\n",
      "   ---------------------------------------  45.8/45.8 MB 21.1 MB/s eta 0:00:01\n",
      "   ---------------------------------------  45.8/45.8 MB 21.1 MB/s eta 0:00:01\n",
      "   ---------------------------------------  45.8/45.8 MB 21.1 MB/s eta 0:00:01\n",
      "   ---------------------------------------- 45.8/45.8 MB 16.8 MB/s eta 0:00:00\n",
      "Installing collected packages: scipy\n",
      "Successfully installed scipy-1.12.0\n"
     ]
    }
   ],
   "source": [
    "!pip install scipy"
   ]
  },
  {
   "cell_type": "code",
   "execution_count": 97,
   "metadata": {},
   "outputs": [
    {
     "name": "stdout",
     "output_type": "stream",
     "text": [
      "---------- params ----------\n",
      "+ app_cfg: c:\\VoKhoa2024\\000_NghienCuu_New\\CodeProjects\\Keras-Examples\\deeplearning\\contribs\\mlp/app_cfg.json\n",
      "+ lr: 0.1\n",
      "+ cnt: 10\n",
      "+ model_name: unet_v2\n",
      "\n",
      "{'b': 10}\n"
     ]
    },
    {
     "ename": "Exception",
     "evalue": "DEBUG",
     "output_type": "error",
     "traceback": [
      "\u001b[1;31m---------------------------------------------------------------------------\u001b[0m",
      "\u001b[1;31mException\u001b[0m                                 Traceback (most recent call last)",
      "File \u001b[1;32m~\\AppData\\Local\\Temp\\ipykernel_26188\\690552622.py:1\u001b[0m\n\u001b[1;32m----> 1\u001b[0m \u001b[38;5;28;01mraise\u001b[39;00m \u001b[38;5;167;01mException\u001b[39;00m(\u001b[38;5;124m\"\u001b[39m\u001b[38;5;124mDEBUG\u001b[39m\u001b[38;5;124m\"\u001b[39m)\n",
      "\u001b[1;31mException\u001b[0m: DEBUG"
     ]
    },
    {
     "ename": "Exception",
     "evalue": "DEBUG",
     "output_type": "error",
     "traceback": [
      "\u001b[1;31m---------------------------------------------------------------------------\u001b[0m",
      "\u001b[1;31mException\u001b[0m                                 Traceback (most recent call last)",
      "Cell \u001b[1;32mIn[97], line 6\u001b[0m\n\u001b[0;32m      4\u001b[0m org_argv \u001b[38;5;241m=\u001b[39m sys\u001b[38;5;241m.\u001b[39margv\n\u001b[0;32m      5\u001b[0m sys\u001b[38;5;241m.\u001b[39margv \u001b[38;5;241m=\u001b[39m shlex\u001b[38;5;241m.\u001b[39msplit(cmd_args)\n\u001b[1;32m----> 6\u001b[0m \u001b[43mget_ipython\u001b[49m\u001b[43m(\u001b[49m\u001b[43m)\u001b[49m\u001b[38;5;241;43m.\u001b[39;49m\u001b[43mrun_line_magic\u001b[49m\u001b[43m(\u001b[49m\u001b[38;5;124;43m'\u001b[39;49m\u001b[38;5;124;43mrun\u001b[39;49m\u001b[38;5;124;43m'\u001b[39;49m\u001b[43m,\u001b[49m\u001b[43m \u001b[49m\u001b[38;5;124;43m'\u001b[39;49m\u001b[38;5;124;43m$root_dir\u001b[39;49m\u001b[38;5;130;43;01m\\\\\u001b[39;49;00m\u001b[38;5;124;43mdeeplearning\u001b[39;49m\u001b[38;5;130;43;01m\\\\\u001b[39;49;00m\u001b[38;5;124;43mcontribs\u001b[39;49m\u001b[38;5;130;43;01m\\\\\u001b[39;49;00m\u001b[38;5;124;43mmlp\u001b[39;49m\u001b[38;5;130;43;01m\\\\\u001b[39;49;00m\u001b[38;5;124;43mFunc_apxm_MLP.ipynb\u001b[39;49m\u001b[38;5;124;43m'\u001b[39;49m\u001b[43m)\u001b[49m\n\u001b[0;32m      7\u001b[0m sys\u001b[38;5;241m.\u001b[39margv \u001b[38;5;241m=\u001b[39m org_argv\n",
      "File \u001b[1;32mc:\\Users\\acer\\AppData\\Local\\Programs\\Python\\Python312\\Lib\\site-packages\\IPython\\core\\interactiveshell.py:2456\u001b[0m, in \u001b[0;36mInteractiveShell.run_line_magic\u001b[1;34m(self, magic_name, line, _stack_depth)\u001b[0m\n\u001b[0;32m   2454\u001b[0m     kwargs[\u001b[38;5;124m'\u001b[39m\u001b[38;5;124mlocal_ns\u001b[39m\u001b[38;5;124m'\u001b[39m] \u001b[38;5;241m=\u001b[39m \u001b[38;5;28mself\u001b[39m\u001b[38;5;241m.\u001b[39mget_local_scope(stack_depth)\n\u001b[0;32m   2455\u001b[0m \u001b[38;5;28;01mwith\u001b[39;00m \u001b[38;5;28mself\u001b[39m\u001b[38;5;241m.\u001b[39mbuiltin_trap:\n\u001b[1;32m-> 2456\u001b[0m     result \u001b[38;5;241m=\u001b[39m \u001b[43mfn\u001b[49m\u001b[43m(\u001b[49m\u001b[38;5;241;43m*\u001b[39;49m\u001b[43margs\u001b[49m\u001b[43m,\u001b[49m\u001b[43m \u001b[49m\u001b[38;5;241;43m*\u001b[39;49m\u001b[38;5;241;43m*\u001b[39;49m\u001b[43mkwargs\u001b[49m\u001b[43m)\u001b[49m\n\u001b[0;32m   2458\u001b[0m \u001b[38;5;66;03m# The code below prevents the output from being displayed\u001b[39;00m\n\u001b[0;32m   2459\u001b[0m \u001b[38;5;66;03m# when using magics with decorator @output_can_be_silenced\u001b[39;00m\n\u001b[0;32m   2460\u001b[0m \u001b[38;5;66;03m# when the last Python token in the expression is a ';'.\u001b[39;00m\n\u001b[0;32m   2461\u001b[0m \u001b[38;5;28;01mif\u001b[39;00m \u001b[38;5;28mgetattr\u001b[39m(fn, magic\u001b[38;5;241m.\u001b[39mMAGIC_OUTPUT_CAN_BE_SILENCED, \u001b[38;5;28;01mFalse\u001b[39;00m):\n",
      "File \u001b[1;32mc:\\Users\\acer\\AppData\\Local\\Programs\\Python\\Python312\\Lib\\site-packages\\IPython\\core\\magics\\execution.py:737\u001b[0m, in \u001b[0;36mExecutionMagics.run\u001b[1;34m(self, parameter_s, runner, file_finder)\u001b[0m\n\u001b[0;32m    735\u001b[0m     \u001b[38;5;28;01mwith\u001b[39;00m preserve_keys(\u001b[38;5;28mself\u001b[39m\u001b[38;5;241m.\u001b[39mshell\u001b[38;5;241m.\u001b[39muser_ns, \u001b[38;5;124m'\u001b[39m\u001b[38;5;124m__file__\u001b[39m\u001b[38;5;124m'\u001b[39m):\n\u001b[0;32m    736\u001b[0m         \u001b[38;5;28mself\u001b[39m\u001b[38;5;241m.\u001b[39mshell\u001b[38;5;241m.\u001b[39muser_ns[\u001b[38;5;124m'\u001b[39m\u001b[38;5;124m__file__\u001b[39m\u001b[38;5;124m'\u001b[39m] \u001b[38;5;241m=\u001b[39m filename\n\u001b[1;32m--> 737\u001b[0m         \u001b[38;5;28;43mself\u001b[39;49m\u001b[38;5;241;43m.\u001b[39;49m\u001b[43mshell\u001b[49m\u001b[38;5;241;43m.\u001b[39;49m\u001b[43msafe_execfile_ipy\u001b[49m\u001b[43m(\u001b[49m\u001b[43mfilename\u001b[49m\u001b[43m,\u001b[49m\u001b[43m \u001b[49m\u001b[43mraise_exceptions\u001b[49m\u001b[38;5;241;43m=\u001b[39;49m\u001b[38;5;28;43;01mTrue\u001b[39;49;00m\u001b[43m)\u001b[49m\n\u001b[0;32m    738\u001b[0m     \u001b[38;5;28;01mreturn\u001b[39;00m\n\u001b[0;32m    740\u001b[0m \u001b[38;5;66;03m# Control the response to exit() calls made by the script being run\u001b[39;00m\n",
      "File \u001b[1;32mc:\\Users\\acer\\AppData\\Local\\Programs\\Python\\Python312\\Lib\\site-packages\\IPython\\core\\interactiveshell.py:2981\u001b[0m, in \u001b[0;36mInteractiveShell.safe_execfile_ipy\u001b[1;34m(self, fname, shell_futures, raise_exceptions)\u001b[0m\n\u001b[0;32m   2979\u001b[0m result \u001b[38;5;241m=\u001b[39m \u001b[38;5;28mself\u001b[39m\u001b[38;5;241m.\u001b[39mrun_cell(cell, silent\u001b[38;5;241m=\u001b[39m\u001b[38;5;28;01mTrue\u001b[39;00m, shell_futures\u001b[38;5;241m=\u001b[39mshell_futures)\n\u001b[0;32m   2980\u001b[0m \u001b[38;5;28;01mif\u001b[39;00m raise_exceptions:\n\u001b[1;32m-> 2981\u001b[0m     \u001b[43mresult\u001b[49m\u001b[38;5;241;43m.\u001b[39;49m\u001b[43mraise_error\u001b[49m\u001b[43m(\u001b[49m\u001b[43m)\u001b[49m\n\u001b[0;32m   2982\u001b[0m \u001b[38;5;28;01melif\u001b[39;00m \u001b[38;5;129;01mnot\u001b[39;00m result\u001b[38;5;241m.\u001b[39msuccess:\n\u001b[0;32m   2983\u001b[0m     \u001b[38;5;28;01mbreak\u001b[39;00m\n",
      "File \u001b[1;32mc:\\Users\\acer\\AppData\\Local\\Programs\\Python\\Python312\\Lib\\site-packages\\IPython\\core\\interactiveshell.py:294\u001b[0m, in \u001b[0;36mExecutionResult.raise_error\u001b[1;34m(self)\u001b[0m\n\u001b[0;32m    292\u001b[0m     \u001b[38;5;28;01mraise\u001b[39;00m \u001b[38;5;28mself\u001b[39m\u001b[38;5;241m.\u001b[39merror_before_exec\n\u001b[0;32m    293\u001b[0m \u001b[38;5;28;01mif\u001b[39;00m \u001b[38;5;28mself\u001b[39m\u001b[38;5;241m.\u001b[39merror_in_exec \u001b[38;5;129;01mis\u001b[39;00m \u001b[38;5;129;01mnot\u001b[39;00m \u001b[38;5;28;01mNone\u001b[39;00m:\n\u001b[1;32m--> 294\u001b[0m     \u001b[38;5;28;01mraise\u001b[39;00m \u001b[38;5;28mself\u001b[39m\u001b[38;5;241m.\u001b[39merror_in_exec\n",
      "    \u001b[1;31m[... skipping hidden 1 frame]\u001b[0m\n",
      "File \u001b[1;32m~\\AppData\\Local\\Temp\\ipykernel_26188\\690552622.py:1\u001b[0m\n\u001b[1;32m----> 1\u001b[0m \u001b[38;5;28;01mraise\u001b[39;00m \u001b[38;5;167;01mException\u001b[39;00m(\u001b[38;5;124m\"\u001b[39m\u001b[38;5;124mDEBUG\u001b[39m\u001b[38;5;124m\"\u001b[39m)\n",
      "\u001b[1;31mException\u001b[0m: DEBUG"
     ]
    }
   ],
   "source": [
    "import sys, shlex\n",
    "cmd_args = \"main --cnt 10\"\n",
    "\n",
    "org_argv = sys.argv\n",
    "sys.argv = shlex.split(cmd_args)\n",
    "%run $root_dir\\deeplearning\\contribs\\mlp\\Func_apxm_MLP.ipynb\n",
    "sys.argv = org_argv"
   ]
  },
  {
   "cell_type": "code",
   "execution_count": 80,
   "metadata": {},
   "outputs": [
    {
     "name": "stdout",
     "output_type": "stream",
     "text": [
      "/abc/d/test1\n",
      "/abc/d/test1\n"
     ]
    }
   ],
   "source": [
    "expr_dir  = \"/abc/d\"\n",
    "expr_name = \"test1\"\n",
    "\n",
    "tpl1 = \"{expr_dir}/{expr_name}\"\n",
    "tpl2 = \"expr_dir + '/' + expr_name\"\n",
    "print(eval(tpl2))\n",
    "print(eval('f\"%s\"'%tpl1))"
   ]
  },
  {
   "cell_type": "code",
   "execution_count": 85,
   "metadata": {},
   "outputs": [
    {
     "data": {
      "text/plain": [
       "'unet_v1'"
      ]
     },
     "execution_count": 85,
     "metadata": {},
     "output_type": "execute_result"
    }
   ],
   "source": [
    "params[\"model_name\"]"
   ]
  },
  {
   "cell_type": "code",
   "execution_count": 88,
   "metadata": {},
   "outputs": [],
   "source": []
  },
  {
   "cell_type": "code",
   "execution_count": 94,
   "metadata": {},
   "outputs": [],
   "source": []
  },
  {
   "cell_type": "code",
   "execution_count": 95,
   "metadata": {},
   "outputs": [
    {
     "data": {
      "text/plain": [
       "{'b': 20}"
      ]
     },
     "execution_count": 95,
     "metadata": {},
     "output_type": "execute_result"
    }
   ],
   "source": [
    "model"
   ]
  },
  {
   "cell_type": "markdown",
   "metadata": {},
   "source": []
  }
 ],
 "metadata": {
  "kernelspec": {
   "display_name": "Python 3",
   "language": "python",
   "name": "python3"
  },
  "language_info": {
   "codemirror_mode": {
    "name": "ipython",
    "version": 3
   },
   "file_extension": ".py",
   "mimetype": "text/x-python",
   "name": "python",
   "nbconvert_exporter": "python",
   "pygments_lexer": "ipython3",
   "version": "3.12.1"
  }
 },
 "nbformat": 4,
 "nbformat_minor": 2
}
